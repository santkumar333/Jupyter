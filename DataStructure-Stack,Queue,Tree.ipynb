{
 "cells": [
  {
   "cell_type": "code",
   "execution_count": 1,
   "metadata": {},
   "outputs": [],
   "source": [
    "from tkinter import *\n",
    "\n",
    "master = Tk()\n",
    "\n",
    "listbox = Listbox(master)\n",
    "listbox.pack()\n",
    "\n",
    "listbox.insert(END, \"a list entry\")\n",
    "\n",
    "for item in [\"one\", \"two\", \"three\", \"four\"]:\n",
    "    listbox.insert(END, item)\n",
    "\n",
    "mainloop()"
   ]
  },
  {
   "cell_type": "code",
   "execution_count": 4,
   "metadata": {},
   "outputs": [],
   "source": [
    "from tkinter import *  \n",
    "  \n",
    "top = Tk()  \n",
    "  \n",
    "top.geometry(\"200x250\")  \n",
    "  \n",
    "lbl = Label(top,text = \"A list of favourite countries...\")  \n",
    "  \n",
    "listbox = Listbox(top)  \n",
    "  \n",
    "listbox.insert(1,\"India\")  \n",
    "  \n",
    "listbox.insert(2, \"USA\")  \n",
    "  \n",
    "listbox.insert(3, \"Japan\")  \n",
    "  \n",
    "listbox.insert(4, \"Austrelia\")  \n",
    "  \n",
    "lbl.pack()  \n",
    "listbox.pack()  \n",
    "  \n",
    "top.mainloop()  "
   ]
  },
  {
   "cell_type": "code",
   "execution_count": null,
   "metadata": {},
   "outputs": [
    {
     "name": "stdout",
     "output_type": "stream",
     "text": [
      " * Serving Flask app \"__main__\" (lazy loading)\n",
      " * Environment: production\n",
      "   WARNING: This is a development server. Do not use it in a production deployment.\n",
      "   Use a production WSGI server instead.\n",
      " * Debug mode: off\n"
     ]
    },
    {
     "name": "stderr",
     "output_type": "stream",
     "text": [
      " * Running on http://0.0.0.0:5000/ (Press CTRL+C to quit)\n"
     ]
    }
   ],
   "source": [
    "from flask import Flask\n",
    "\n",
    "server = Flask(__name__)\n",
    "@server.route(\"/\")\n",
    "def hello():\n",
    "    return \"Hello World!\"\n",
    "if __name__ == \"__main__\":\n",
    "    server.run(host='0.0.0.0')"
   ]
  },
  {
   "cell_type": "code",
   "execution_count": 7,
   "metadata": {},
   "outputs": [
    {
     "data": {
      "text/plain": [
       "'What\\nis\\nyour\\nfavourite\\npainting\\n?'"
      ]
     },
     "execution_count": 7,
     "metadata": {},
     "output_type": "execute_result"
    }
   ],
   "source": [
    "\"\\n\".join([\"What\",\"is\",\"your\",\"favourite\",\"painting\",\"?\"])"
   ]
  },
  {
   "cell_type": "code",
   "execution_count": 2,
   "metadata": {},
   "outputs": [
    {
     "data": {
      "text/plain": [
       "'What\\nis\\nyour\\nfavourite\\npainting\\n?'"
      ]
     },
     "execution_count": 2,
     "metadata": {},
     "output_type": "execute_result"
    }
   ],
   "source": [
    "x"
   ]
  },
  {
   "cell_type": "code",
   "execution_count": 3,
   "metadata": {},
   "outputs": [],
   "source": [
    "x=5"
   ]
  },
  {
   "cell_type": "code",
   "execution_count": 4,
   "metadata": {},
   "outputs": [
    {
     "data": {
      "text/plain": [
       "5"
      ]
     },
     "execution_count": 4,
     "metadata": {},
     "output_type": "execute_result"
    }
   ],
   "source": [
    "x"
   ]
  },
  {
   "cell_type": "code",
   "execution_count": 8,
   "metadata": {},
   "outputs": [
    {
     "name": "stdout",
     "output_type": "stream",
     "text": [
      "{1, 2, 3, 5, 6}\n"
     ]
    }
   ],
   "source": [
    "numbers = [1, 2, 6, 3, 1, 1, 5] \n",
    "\n",
    "unique_nums = set(numbers)\n",
    "print(unique_nums)"
   ]
  },
  {
   "cell_type": "code",
   "execution_count": 10,
   "metadata": {},
   "outputs": [
    {
     "data": {
      "text/plain": [
       "set"
      ]
     },
     "execution_count": 10,
     "metadata": {},
     "output_type": "execute_result"
    }
   ],
   "source": [
    "type(unique_nums)"
   ]
  },
  {
   "cell_type": "code",
   "execution_count": 11,
   "metadata": {},
   "outputs": [
    {
     "name": "stdout",
     "output_type": "stream",
     "text": [
      "5\n",
      "True\n",
      "[10, 23, 25, 27, 11]\n",
      "overflow\n",
      "11\n",
      "27\n",
      "25\n",
      "23\n",
      "10\n",
      "underflow\n"
     ]
    }
   ],
   "source": [
    "class mystack:\n",
    "    \n",
    "    def __init__(self):\n",
    "        self.data =[]\n",
    "        \n",
    "    def length(self): #length of the list\n",
    "        return len(self.data)\n",
    "    \n",
    "    def is_full(self): #check if the list is full or not\n",
    "        if len(self.data) == 5:\n",
    "            return True\n",
    "        else:\n",
    "            return False\n",
    "        \n",
    "    def push(self, element):# insert a new element\n",
    "        if len(self.data) < 5:\n",
    "            self.data.append(element)\n",
    "        else:\n",
    "            return \"overflow\"\n",
    "        \n",
    "    def pop(self): # # remove the last element from a list\n",
    "        if len(self.data) == 0:\n",
    "            return \"underflow\"\n",
    "        else:\n",
    "            return self.data.pop()\n",
    "\n",
    "a = mystack() # I create my object\n",
    "a.push(10) # insert the  element\n",
    "a.push(23)\n",
    "a.push(25)\n",
    "a.push(27)\n",
    "a.push(11)\n",
    "print(a.length())\n",
    "print(a.is_full())\n",
    "print(a.data)\n",
    "print(a.push(31)) # we try to insert one more element in the list - the output will be overflow\n",
    "print(a.pop())\n",
    "print(a.pop())\n",
    "print(a.pop())\n",
    "print(a.pop())\n",
    "print(a.pop())\n",
    "print(a.pop()) # try to delete an element in a list without elements - the output will be underflow"
   ]
  },
  {
   "cell_type": "code",
   "execution_count": 12,
   "metadata": {},
   "outputs": [
    {
     "name": "stdout",
     "output_type": "stream",
     "text": [
      "[2, 3, 4, 5]\n",
      "[3, 4, 5]\n"
     ]
    }
   ],
   "source": [
    "class myqueue:\n",
    "    \n",
    "    def __init__(self):\n",
    "        self.data = []\n",
    "        \n",
    "    def length(self):\n",
    "        return len(self.data)\n",
    "    \n",
    "    def enque(self, element): # put the element in the queue\n",
    "        if len(self.data) < 5:\n",
    "            return self.data.append(element)\n",
    "        else:\n",
    "            return \"overflow\"\n",
    "        \n",
    "    def deque(self): # remove the first element that we have put in queue\n",
    "        if len(self.data) == 0:\n",
    "             return \"underflow\"\n",
    "        else:\n",
    "            self.data.pop(0)\n",
    "            \n",
    "b = myqueue()\n",
    "b.enque(2) # put the element into the queue\n",
    "b.enque(3)\n",
    "b.enque(4)\n",
    "b.enque(5)\n",
    "print(b.data)\n",
    "b.deque()# # remove the first element that we have put in the queue\n",
    "print(b.data)"
   ]
  },
  {
   "cell_type": "code",
   "execution_count": 13,
   "metadata": {},
   "outputs": [
    {
     "name": "stdout",
     "output_type": "stream",
     "text": [
      "[4, 5]\n"
     ]
    }
   ],
   "source": [
    "b.deque()# # remove the first element that we have put in the queue\n",
    "print(b.data)"
   ]
  },
  {
   "cell_type": "code",
   "execution_count": 14,
   "metadata": {},
   "outputs": [
    {
     "name": "stdout",
     "output_type": "stream",
     "text": [
      "[5]\n"
     ]
    }
   ],
   "source": [
    "b.deque()# # remove the first element that we have put in the queue\n",
    "print(b.data)"
   ]
  },
  {
   "cell_type": "code",
   "execution_count": 15,
   "metadata": {},
   "outputs": [
    {
     "name": "stdout",
     "output_type": "stream",
     "text": [
      "[]\n"
     ]
    }
   ],
   "source": [
    "b.deque()# # remove the first element that we have put in the queue\n",
    "print(b.data)"
   ]
  },
  {
   "cell_type": "code",
   "execution_count": 17,
   "metadata": {},
   "outputs": [
    {
     "data": {
      "text/plain": [
       "'underflow'"
      ]
     },
     "execution_count": 17,
     "metadata": {},
     "output_type": "execute_result"
    }
   ],
   "source": [
    "b.deque()# # remove the first element that we have put in the queue\n"
   ]
  },
  {
   "cell_type": "code",
   "execution_count": 18,
   "metadata": {},
   "outputs": [],
   "source": [
    "b.enque(2) # put the element into the queue\n",
    "b.enque(3)\n",
    "b.enque(4)\n",
    "b.enque(5)\n",
    "b.enque(8)"
   ]
  },
  {
   "cell_type": "code",
   "execution_count": 20,
   "metadata": {},
   "outputs": [
    {
     "name": "stdout",
     "output_type": "stream",
     "text": [
      "[2, 3, 4, 5, 8]\n"
     ]
    }
   ],
   "source": [
    "print(b.data)"
   ]
  },
  {
   "cell_type": "code",
   "execution_count": 21,
   "metadata": {},
   "outputs": [
    {
     "data": {
      "text/plain": [
       "'overflow'"
      ]
     },
     "execution_count": 21,
     "metadata": {},
     "output_type": "execute_result"
    }
   ],
   "source": [
    "b.enque(80)"
   ]
  },
  {
   "cell_type": "code",
   "execution_count": 22,
   "metadata": {},
   "outputs": [],
   "source": [
    "# create the class Node and the attrbutes \n",
    "class Node:\n",
    "    def __init__(self, letter):\n",
    "        self.childleft = None\n",
    "        self.childright = None\n",
    "        self.nodedata = letter\n",
    "\n",
    "# create the nodes for the tree\n",
    "root = Node('A')\n",
    "root.childleft = Node('B')\n",
    "root.childright = Node('C')\n",
    "root.childleft.childleft = Node('D')\n",
    "root.childleft.childright = Node('E')"
   ]
  },
  {
   "cell_type": "code",
   "execution_count": 24,
   "metadata": {},
   "outputs": [
    {
     "data": {
      "text/plain": [
       "'A'"
      ]
     },
     "execution_count": 24,
     "metadata": {},
     "output_type": "execute_result"
    }
   ],
   "source": [
    "root.nodedata"
   ]
  },
  {
   "cell_type": "code",
   "execution_count": null,
   "metadata": {},
   "outputs": [],
   "source": []
  }
 ],
 "metadata": {
  "kernelspec": {
   "display_name": "Python 3",
   "language": "python",
   "name": "python3"
  },
  "language_info": {
   "codemirror_mode": {
    "name": "ipython",
    "version": 3
   },
   "file_extension": ".py",
   "mimetype": "text/x-python",
   "name": "python",
   "nbconvert_exporter": "python",
   "pygments_lexer": "ipython3",
   "version": "3.8.3"
  }
 },
 "nbformat": 4,
 "nbformat_minor": 4
}
