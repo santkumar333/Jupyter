{
 "cells": [
  {
   "cell_type": "code",
   "execution_count": 1,
   "metadata": {},
   "outputs": [],
   "source": [
    "from tkinter import *\n",
    "\n",
    "master = Tk()\n",
    "\n",
    "listbox = Listbox(master)\n",
    "listbox.pack()\n",
    "\n",
    "listbox.insert(END, \"a list entry\")\n",
    "\n",
    "for item in [\"one\", \"two\", \"three\", \"four\"]:\n",
    "    listbox.insert(END, item)\n",
    "\n",
    "mainloop()"
   ]
  },
  {
   "cell_type": "code",
   "execution_count": 4,
   "metadata": {},
   "outputs": [],
   "source": [
    "from tkinter import *  \n",
    "  \n",
    "top = Tk()  \n",
    "  \n",
    "top.geometry(\"200x250\")  \n",
    "  \n",
    "lbl = Label(top,text = \"A list of favourite countries...\")  \n",
    "  \n",
    "listbox = Listbox(top)  \n",
    "  \n",
    "listbox.insert(1,\"India\")  \n",
    "  \n",
    "listbox.insert(2, \"USA\")  \n",
    "  \n",
    "listbox.insert(3, \"Japan\")  \n",
    "  \n",
    "listbox.insert(4, \"Austrelia\")  \n",
    "  \n",
    "lbl.pack()  \n",
    "listbox.pack()  \n",
    "  \n",
    "top.mainloop()  "
   ]
  },
  {
   "cell_type": "code",
   "execution_count": null,
   "metadata": {},
   "outputs": [
    {
     "name": "stdout",
     "output_type": "stream",
     "text": [
      " * Serving Flask app \"__main__\" (lazy loading)\n",
      " * Environment: production\n",
      "   WARNING: This is a development server. Do not use it in a production deployment.\n",
      "   Use a production WSGI server instead.\n",
      " * Debug mode: off\n"
     ]
    },
    {
     "name": "stderr",
     "output_type": "stream",
     "text": [
      " * Running on http://0.0.0.0:5000/ (Press CTRL+C to quit)\n"
     ]
    }
   ],
   "source": [
    "from flask import Flask\n",
    "\n",
    "server = Flask(__name__)\n",
    "@server.route(\"/\")\n",
    "def hello():\n",
    "    return \"Hello World!\"\n",
    "if __name__ == \"__main__\":\n",
    "    server.run(host='0.0.0.0')"
   ]
  },
  {
   "cell_type": "code",
   "execution_count": 7,
   "metadata": {},
   "outputs": [
    {
     "data": {
      "text/plain": [
       "'What\\nis\\nyour\\nfavourite\\npainting\\n?'"
      ]
     },
     "execution_count": 7,
     "metadata": {},
     "output_type": "execute_result"
    }
   ],
   "source": [
    "\"\\n\".join([\"What\",\"is\",\"your\",\"favourite\",\"painting\",\"?\"])"
   ]
  },
  {
   "cell_type": "code",
   "execution_count": 2,
   "metadata": {},
   "outputs": [
    {
     "data": {
      "text/plain": [
       "'What\\nis\\nyour\\nfavourite\\npainting\\n?'"
      ]
     },
     "execution_count": 2,
     "metadata": {},
     "output_type": "execute_result"
    }
   ],
   "source": [
    "x"
   ]
  },
  {
   "cell_type": "code",
   "execution_count": 3,
   "metadata": {},
   "outputs": [],
   "source": [
    "x=5"
   ]
  },
  {
   "cell_type": "code",
   "execution_count": 4,
   "metadata": {},
   "outputs": [
    {
     "data": {
      "text/plain": [
       "5"
      ]
     },
     "execution_count": 4,
     "metadata": {},
     "output_type": "execute_result"
    }
   ],
   "source": [
    "x"
   ]
  },
  {
   "cell_type": "code",
   "execution_count": 8,
   "metadata": {},
   "outputs": [
    {
     "name": "stdout",
     "output_type": "stream",
     "text": [
      "{1, 2, 3, 5, 6}\n"
     ]
    }
   ],
   "source": [
    "numbers = [1, 2, 6, 3, 1, 1, 5] \n",
    "\n",
    "unique_nums = set(numbers)\n",
    "print(unique_nums)"
   ]
  },
  {
   "cell_type": "code",
   "execution_count": 10,
   "metadata": {},
   "outputs": [
    {
     "data": {
      "text/plain": [
       "set"
      ]
     },
     "execution_count": 10,
     "metadata": {},
     "output_type": "execute_result"
    }
   ],
   "source": [
    "type(unique_nums)"
   ]
  },
  {
   "cell_type": "code",
   "execution_count": 11,
   "metadata": {},
   "outputs": [
    {
     "name": "stdout",
     "output_type": "stream",
     "text": [
      "5\n",
      "True\n",
      "[10, 23, 25, 27, 11]\n",
      "overflow\n",
      "11\n",
      "27\n",
      "25\n",
      "23\n",
      "10\n",
      "underflow\n"
     ]
    }
   ],
   "source": [
    "class mystack:\n",
    "    \n",
    "    def __init__(self):\n",
    "        self.data =[]\n",
    "        \n",
    "    def length(self): #length of the list\n",
    "        return len(self.data)\n",
    "    \n",
    "    def is_full(self): #check if the list is full or not\n",
    "        if len(self.data) == 5:\n",
    "            return True\n",
    "        else:\n",
    "            return False\n",
    "        \n",
    "    def push(self, element):# insert a new element\n",
    "        if len(self.data) < 5:\n",
    "            self.data.append(element)\n",
    "        else:\n",
    "            return \"overflow\"\n",
    "        \n",
    "    def pop(self): # # remove the last element from a list\n",
    "        if len(self.data) == 0:\n",
    "            return \"underflow\"\n",
    "        else:\n",
    "            return self.data.pop()\n",
    "\n",
    "a = mystack() # I create my object\n",
    "a.push(10) # insert the  element\n",
    "a.push(23)\n",
    "a.push(25)\n",
    "a.push(27)\n",
    "a.push(11)\n",
    "print(a.length())\n",
    "print(a.is_full())\n",
    "print(a.data)\n",
    "print(a.push(31)) # we try to insert one more element in the list - the output will be overflow\n",
    "print(a.pop())\n",
    "print(a.pop())\n",
    "print(a.pop())\n",
    "print(a.pop())\n",
    "print(a.pop())\n",
    "print(a.pop()) # try to delete an element in a list without elements - the output will be underflow"
   ]
  },
  {
   "cell_type": "code",
   "execution_count": 12,
   "metadata": {},
   "outputs": [
    {
     "name": "stdout",
     "output_type": "stream",
     "text": [
      "[2, 3, 4, 5]\n",
      "[3, 4, 5]\n"
     ]
    }
   ],
   "source": [
    "class myqueue:\n",
    "    \n",
    "    def __init__(self):\n",
    "        self.data = []\n",
    "        \n",
    "    def length(self):\n",
    "        return len(self.data)\n",
    "    \n",
    "    def enque(self, element): # put the element in the queue\n",
    "        if len(self.data) < 5:\n",
    "            return self.data.append(element)\n",
    "        else:\n",
    "            return \"overflow\"\n",
    "        \n",
    "    def deque(self): # remove the first element that we have put in queue\n",
    "        if len(self.data) == 0:\n",
    "             return \"underflow\"\n",
    "        else:\n",
    "            self.data.pop(0)\n",
    "            \n",
    "b = myqueue()\n",
    "b.enque(2) # put the element into the queue\n",
    "b.enque(3)\n",
    "b.enque(4)\n",
    "b.enque(5)\n",
    "print(b.data)\n",
    "b.deque()# # remove the first element that we have put in the queue\n",
    "print(b.data)"
   ]
  },
  {
   "cell_type": "code",
   "execution_count": 13,
   "metadata": {},
   "outputs": [
    {
     "name": "stdout",
     "output_type": "stream",
     "text": [
      "[4, 5]\n"
     ]
    }
   ],
   "source": [
    "b.deque()# # remove the first element that we have put in the queue\n",
    "print(b.data)"
   ]
  },
  {
   "cell_type": "code",
   "execution_count": 14,
   "metadata": {},
   "outputs": [
    {
     "name": "stdout",
     "output_type": "stream",
     "text": [
      "[5]\n"
     ]
    }
   ],
   "source": [
    "b.deque()# # remove the first element that we have put in the queue\n",
    "print(b.data)"
   ]
  },
  {
   "cell_type": "code",
   "execution_count": 15,
   "metadata": {},
   "outputs": [
    {
     "name": "stdout",
     "output_type": "stream",
     "text": [
      "[]\n"
     ]
    }
   ],
   "source": [
    "b.deque()# # remove the first element that we have put in the queue\n",
    "print(b.data)"
   ]
  },
  {
   "cell_type": "code",
   "execution_count": 17,
   "metadata": {},
   "outputs": [
    {
     "data": {
      "text/plain": [
       "'underflow'"
      ]
     },
     "execution_count": 17,
     "metadata": {},
     "output_type": "execute_result"
    }
   ],
   "source": [
    "b.deque()# # remove the first element that we have put in the queue\n"
   ]
  },
  {
   "cell_type": "code",
   "execution_count": 18,
   "metadata": {},
   "outputs": [],
   "source": [
    "b.enque(2) # put the element into the queue\n",
    "b.enque(3)\n",
    "b.enque(4)\n",
    "b.enque(5)\n",
    "b.enque(8)"
   ]
  },
  {
   "cell_type": "code",
   "execution_count": 1,
   "metadata": {},
   "outputs": [],
   "source": [
    "r = map(lambda x: x * x, [1, 2, 3, 4, 5, 6, 7, 8, 9])"
   ]
  },
  {
   "cell_type": "code",
   "execution_count": 2,
   "metadata": {},
   "outputs": [
    {
     "data": {
      "text/plain": [
       "<map at 0x57e8208>"
      ]
     },
     "execution_count": 2,
     "metadata": {},
     "output_type": "execute_result"
    }
   ],
   "source": [
    "r"
   ]
  },
  {
   "cell_type": "code",
   "execution_count": 3,
   "metadata": {},
   "outputs": [
    {
     "data": {
      "text/plain": [
       "[1, 4, 9, 16, 25, 36, 49, 64, 81]"
      ]
     },
     "execution_count": 3,
     "metadata": {},
     "output_type": "execute_result"
    }
   ],
   "source": [
    "list(r)"
   ]
  },
  {
   "cell_type": "code",
   "execution_count": 5,
   "metadata": {},
   "outputs": [
    {
     "name": "stdout",
     "output_type": "stream",
     "text": [
      "['Yang', 'Mask', 'Thomas', 'Lisa']\n"
     ]
    }
   ],
   "source": [
    "names = ['yAnG', 'MASk', 'thoMas', 'LISA']\n",
    "names = map(str.capitalize, names)\n",
    "print(list(names))"
   ]
  },
  {
   "cell_type": "code",
   "execution_count": 6,
   "metadata": {},
   "outputs": [
    {
     "name": "stdout",
     "output_type": "stream",
     "text": [
      "London2020\n"
     ]
    }
   ],
   "source": [
    "from functools import reduce\n",
    "\n",
    "city = ['L', 'o', 'n', 'd', 'o', 'n', 2, 0, 2, 0]\n",
    "city_to_str = reduce(lambda x, y: str(x) + str(y), city)\n",
    "print(city_to_str)"
   ]
  },
  {
   "cell_type": "code",
   "execution_count": 10,
   "metadata": {},
   "outputs": [
    {
     "name": "stdout",
     "output_type": "stream",
     "text": [
      "['Yang', 'Mask', 'Thomas', 'Lisa']\n",
      "[]\n"
     ]
    }
   ],
   "source": [
    "names = ['yAnG', 'MASk', 'thoMas', 'LISA']\n",
    "names = map(str.capitalize, names)\n",
    "print(list(names))\n",
    "names = filter(lambda x: len(x) <= 4, names)\n",
    "print(list(names))"
   ]
  },
  {
   "cell_type": "code",
   "execution_count": 13,
   "metadata": {},
   "outputs": [
    {
     "name": "stdout",
     "output_type": "stream",
     "text": [
      "An exception occurred division by zero\n",
      "Finalyy\n"
     ]
    }
   ],
   "source": [
    "try:\n",
    "    x = 5/0\n",
    "    file = open(\"testfile\", \"w\")\n",
    "    file.write(\"Writing to the file\")\n",
    "except IOError:\n",
    "    print(\"An IOError occurred while writing to the file\")\n",
    "except Exception as error:\n",
    "    print(f\"An exception occurred {error}\")\n",
    "finally:\n",
    "    print(\"Finalyy\")\n",
    "    file.close()"
   ]
  },
  {
   "cell_type": "code",
   "execution_count": 14,
   "metadata": {},
   "outputs": [],
   "source": [
    "try:\n",
    "    with open(\"testfile\", \"w\") as file:\n",
    "        file.write(\"writing to the file\")\n",
    "except IOError:\n",
    "    print(\"An IOError occurred while writing to the file\")\n",
    "except Exception as error:\n",
    "    print(f\"An exception occurred {error}\")"
   ]
  },
  {
   "cell_type": "code",
   "execution_count": 18,
   "metadata": {},
   "outputs": [
    {
     "ename": "AssertionError",
     "evalue": "",
     "output_type": "error",
     "traceback": [
      "\u001b[1;31m---------------------------------------------------------------------------\u001b[0m",
      "\u001b[1;31mAssertionError\u001b[0m                            Traceback (most recent call last)",
      "\u001b[1;32m<ipython-input-18-7632cb66c879>\u001b[0m in \u001b[0;36m<module>\u001b[1;34m\u001b[0m\n\u001b[0;32m      3\u001b[0m \u001b[1;33m\u001b[0m\u001b[0m\n\u001b[0;32m      4\u001b[0m \u001b[1;32massert\u001b[0m \u001b[0mstring_reverse\u001b[0m\u001b[1;33m(\u001b[0m\u001b[1;34m\"hello\"\u001b[0m\u001b[1;33m)\u001b[0m \u001b[1;33m==\u001b[0m \u001b[1;34m\"olleh\"\u001b[0m\u001b[1;33m\u001b[0m\u001b[1;33m\u001b[0m\u001b[0m\n\u001b[1;32m----> 5\u001b[1;33m \u001b[1;32massert\u001b[0m \u001b[0mstring_reverse\u001b[0m\u001b[1;33m(\u001b[0m\u001b[1;34m\"goodbye\"\u001b[0m\u001b[1;33m)\u001b[0m \u001b[1;33m==\u001b[0m \u001b[1;34m\"xxx\"\u001b[0m\u001b[1;33m\u001b[0m\u001b[1;33m\u001b[0m\u001b[0m\n\u001b[0m",
      "\u001b[1;31mAssertionError\u001b[0m: "
     ]
    }
   ],
   "source": [
    "def string_reverse(forward: str = \"\") -> str:\n",
    "    return forward[::-1]\n",
    "\n",
    "assert string_reverse(\"hello\") == \"olleh\"\n",
    "assert string_reverse(\"goodbye\") == \"xxx\""
   ]
  },
  {
   "cell_type": "code",
   "execution_count": 19,
   "metadata": {},
   "outputs": [],
   "source": [
    "import re\n",
    "\n",
    "\n",
    "def between(first: str = \"\", second: str = \"\", input_string=\"\") -> str:\n",
    "    \n",
    "    m = re.search(f\"{first}(.+?){second}\", input_string)\n",
    "    if m:\n",
    "        return m.group(1)\n",
    "\n",
    "    else:\n",
    "        return \"\"\n",
    "\n",
    "\n",
    "assert between(input_string=\"adCCCTHETEXTZZZdfhewihu\",\n",
    "               first=\"CCC\",\n",
    "               second=\"ZZZ\") == \"THETEXT\""
   ]
  },
  {
   "cell_type": "code",
   "execution_count": 20,
   "metadata": {},
   "outputs": [
    {
     "name": "stderr",
     "output_type": "stream",
     "text": [
      "19:25:58: Main    : before creating thread\n",
      "19:25:58: Main    : before running thread\n",
      "19:25:58: Thread 1: starting\n",
      "19:25:58: Main    : wait for the thread to finish\n",
      "19:25:58: Main    : all done\n",
      "19:26:00: Thread 1: finishing\n"
     ]
    }
   ],
   "source": [
    "import logging\n",
    "\n",
    "import threading\n",
    "\n",
    "import time\n",
    "\n",
    "\n",
    "def thread_function(name):\n",
    "\n",
    "    logging.info(\"Thread %s: starting\", name)\n",
    "\n",
    "    time.sleep(2)\n",
    "\n",
    "    logging.info(\"Thread %s: finishing\", name)\n",
    "\n",
    "\n",
    "if __name__ == \"__main__\":\n",
    "\n",
    "    format = \"%(asctime)s: %(message)s\"\n",
    "\n",
    "    logging.basicConfig(format=format, level=logging.INFO,\n",
    "\n",
    "                        datefmt=\"%H:%M:%S\")\n",
    "\n",
    "\n",
    "    logging.info(\"Main    : x\")\n",
    "\n",
    "    x = threading.Thread(target=thread_function, args=(1,))\n",
    "\n",
    "    logging.info(\"Main    : before running thread\")\n",
    "\n",
    "    x.start()\n",
    "\n",
    "    logging.info(\"Main    : wait for the thread to finish\")\n",
    "\n",
    "    # x.join()\n",
    "\n",
    "    logging.info(\"Main    : all done\")"
   ]
  },
  {
   "cell_type": "code",
   "execution_count": 21,
   "metadata": {},
   "outputs": [],
   "source": [
    "def say_hello(name):\n",
    "    print(f'Hello, {name}!')\n",
    "    \n",
    "    \n",
    "def say_goodbye(name):\n",
    "    print(f'Goodbye, {name}!')\n",
    "\n",
    "    \n",
    "def say_to_bob(fun):\n",
    "    fun('Bob')"
   ]
  },
  {
   "cell_type": "code",
   "execution_count": 22,
   "metadata": {},
   "outputs": [
    {
     "name": "stdout",
     "output_type": "stream",
     "text": [
      "Hello, Bob!\n"
     ]
    }
   ],
   "source": [
    "say_to_bob(say_hello)"
   ]
  },
  {
   "cell_type": "code",
   "execution_count": 23,
   "metadata": {},
   "outputs": [
    {
     "name": "stdout",
     "output_type": "stream",
     "text": [
      "Goodbye, Bob!\n"
     ]
    }
   ],
   "source": [
    "say_to_bob(say_goodbye)"
   ]
  },
  {
   "cell_type": "code",
   "execution_count": 1,
   "metadata": {},
   "outputs": [
    {
     "name": "stdout",
     "output_type": "stream",
     "text": [
      "Hello, Bob!\n",
      "Goodbye, Bob!\n"
     ]
    }
   ],
   "source": [
    "def say_hello(name):\n",
    "    print(f'Hello, {name}!')\n",
    "    \n",
    "    \n",
    "def say_goodbye(name):\n",
    "    print(f'Goodbye, {name}!')\n",
    "\n",
    "\n",
    "def get_greeting(greeting):\n",
    "    if greeting == 'hello':\n",
    "        greeting_fun = say_hello\n",
    "    elif greeting == 'goodbye':\n",
    "        greeting_fun = say_goodbye\n",
    "    \n",
    "    return greeting_fun\n",
    "    \n",
    "    \n",
    "def say_to_bob(greeting):\n",
    "    greeting_fun = get_greeting(greeting)\n",
    "    greeting_fun('Bob')\n",
    "    \n",
    "    \n",
    "say_to_bob('hello')\n",
    "say_to_bob('goodbye')"
   ]
  },
  {
   "cell_type": "code",
   "execution_count": 2,
   "metadata": {},
   "outputs": [
    {
     "name": "stdout",
     "output_type": "stream",
     "text": [
      "Function `walkout` called\n",
      "Bye Felicia\n",
      "Function `walkout` finished\n"
     ]
    }
   ],
   "source": [
    "def walkout():\n",
    "    print('Bye Felicia')\n",
    "\n",
    "    \n",
    "def debug_transformer(fun):\n",
    "    def wrapper():\n",
    "        print(f'Function `{fun.__name__}` called')\n",
    "        fun()\n",
    "        print(f'Function `{fun.__name__}` finished')\n",
    "        \n",
    "    return wrapper\n",
    "\n",
    "\n",
    "walkout = debug_transformer(walkout)\n",
    "walkout()"
   ]
  },
  {
   "cell_type": "code",
   "execution_count": 3,
   "metadata": {},
   "outputs": [],
   "source": [
    "def debug_transformer(fun):\n",
    "    # Allow wrapper to receive arbitrary args\n",
    "    def wrapper(*args, **kwargs):\n",
    "        print(f'Function `{fun.__name__}` called')\n",
    "        # And pass it to the original function\n",
    "        res = fun(*args, **kwargs)\n",
    "        print(f'Function `{fun.__name__}` finished')\n",
    "        return res\n",
    "        \n",
    "    return wrapper"
   ]
  },
  {
   "cell_type": "code",
   "execution_count": null,
   "metadata": {},
   "outputs": [],
   "source": []
  }
 ],
 "metadata": {
  "kernelspec": {
   "display_name": "Python 3",
   "language": "python",
   "name": "python3"
  },
  "language_info": {
   "codemirror_mode": {
    "name": "ipython",
    "version": 3
   },
   "file_extension": ".py",
   "mimetype": "text/x-python",
   "name": "python",
   "nbconvert_exporter": "python",
   "pygments_lexer": "ipython3",
   "version": "3.8.3"
  }
 },
 "nbformat": 4,
 "nbformat_minor": 4
}
