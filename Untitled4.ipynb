{
 "cells": [
  {
   "cell_type": "code",
   "execution_count": null,
   "metadata": {},
   "outputs": [],
   "source": []
  },
  {
   "cell_type": "code",
   "execution_count": null,
   "metadata": {},
   "outputs": [],
   "source": [
    "import math\n",
    "\n",
    "square_root = lambda x: math.sqrt(x)\n",
    "# is an equivalant lambda expression for below function\n",
    "def square_root(x): \n",
    "  return math.sqrt(x)"
   ]
  },
  {
   "cell_type": "code",
   "execution_count": null,
   "metadata": {},
   "outputs": [],
   "source": [
    "square_root(33334242342343244323242432432422342342345)"
   ]
  },
  {
   "cell_type": "markdown",
   "metadata": {},
   "source": [
    "import math\n",
    "  \n",
    "if __name__ == '__main__':\n",
    "  arr = [1, 2, 3, 4, 5]\n",
    "  arr = list(map(lambda x : x**2, arr))\n",
    "  print (arr)\n",
    "  # prints [1, 4, 9, 16, 25]"
   ]
  },
  {
   "cell_type": "markdown",
   "metadata": {},
   "source": [
    "import math\n",
    "  \n",
    "if __name__ == '__main__':\n",
    "  arr = [1, 2, 3, 4, 5]\n",
    "  arr = list(map(lambda x : x**2, arr))\n",
    "  print (arr)\n",
    "  # prints [1, 4, 9, 16, 25]"
   ]
  },
  {
   "cell_type": "code",
   "execution_count": null,
   "metadata": {},
   "outputs": [],
   "source": [
    "import math\n",
    "  \n",
    "if __name__ == '__main__':\n",
    "  arr = [1, 2, 3, 4, 5]\n",
    "  arr = list(map(lambda x : x**2, arr))\n",
    "  print (arr)\n",
    "  # prints [1, 4, 9, 16, 25]"
   ]
  },
  {
   "cell_type": "code",
   "execution_count": 1,
   "metadata": {},
   "outputs": [
    {
     "name": "stdout",
     "output_type": "stream",
     "text": [
      "[2, 4, 6]\n"
     ]
    }
   ],
   "source": [
    "if __name__ == '__main__':\n",
    "  arr = [1, 2, 3, 4, 5, 6]\n",
    "  arr = list(filter(lambda x : x%2 == 0, arr))\n",
    "  print (arr)\n",
    "  # print [2, 4, 6]"
   ]
  },
  {
   "cell_type": "code",
   "execution_count": 6,
   "metadata": {},
   "outputs": [],
   "source": [
    "class User:\n",
    "    def __init__(self, username):\n",
    "        self.username = username\n",
    "        self.profile_data = self._get_profile_data()\n",
    "        print(f\"{self.__class__.__name__} instance created\")\n",
    "        \n",
    "    def _get_profile_data(self):\n",
    "        # get the data from the server and load it to memory\n",
    "        print(\"Run the expensive operation\")\n",
    "        fetched_data = \"The mock data of a large size\"\n",
    "        return fetched_data\n",
    "    \n",
    "    def get_followers(username):\n",
    "        #get the followers from the server for the user\n",
    "        usernames_fetched = [\"David\", \"Aaron\", \"Zack\"]\n",
    "        users = [User(username) for username in usernames]\n",
    "        return users\n"
   ]
  },
  {
   "cell_type": "code",
   "execution_count": 8,
   "metadata": {},
   "outputs": [
    {
     "ename": "NameError",
     "evalue": "name 'usernames' is not defined",
     "output_type": "error",
     "traceback": [
      "\u001b[1;31m---------------------------------------------------------------------------\u001b[0m",
      "\u001b[1;31mNameError\u001b[0m                                 Traceback (most recent call last)",
      "\u001b[1;32m<ipython-input-8-719b779dfbb3>\u001b[0m in \u001b[0;36m<module>\u001b[1;34m\u001b[0m\n\u001b[1;32m----> 1\u001b[1;33m \u001b[0musers\u001b[0m \u001b[1;33m=\u001b[0m \u001b[0mUser\u001b[0m\u001b[1;33m.\u001b[0m\u001b[0mget_followers\u001b[0m\u001b[1;33m(\u001b[0m\u001b[1;34m\"user0\"\u001b[0m\u001b[1;33m)\u001b[0m\u001b[1;33m\u001b[0m\u001b[1;33m\u001b[0m\u001b[0m\n\u001b[0m",
      "\u001b[1;32m<ipython-input-6-8bc7b1e4cfb2>\u001b[0m in \u001b[0;36mget_followers\u001b[1;34m(username)\u001b[0m\n\u001b[0;32m     14\u001b[0m         \u001b[1;31m#get the followers from the server for the user\u001b[0m\u001b[1;33m\u001b[0m\u001b[1;33m\u001b[0m\u001b[1;33m\u001b[0m\u001b[0m\n\u001b[0;32m     15\u001b[0m         \u001b[0musernames_fetched\u001b[0m \u001b[1;33m=\u001b[0m \u001b[1;33m[\u001b[0m\u001b[1;34m\"David\"\u001b[0m\u001b[1;33m,\u001b[0m \u001b[1;34m\"Aaron\"\u001b[0m\u001b[1;33m,\u001b[0m \u001b[1;34m\"Zack\"\u001b[0m\u001b[1;33m]\u001b[0m\u001b[1;33m\u001b[0m\u001b[1;33m\u001b[0m\u001b[0m\n\u001b[1;32m---> 16\u001b[1;33m         \u001b[0musers\u001b[0m \u001b[1;33m=\u001b[0m \u001b[1;33m[\u001b[0m\u001b[0mUser\u001b[0m\u001b[1;33m(\u001b[0m\u001b[0musername\u001b[0m\u001b[1;33m)\u001b[0m \u001b[1;32mfor\u001b[0m \u001b[0musername\u001b[0m \u001b[1;32min\u001b[0m \u001b[0musernames\u001b[0m\u001b[1;33m]\u001b[0m\u001b[1;33m\u001b[0m\u001b[1;33m\u001b[0m\u001b[0m\n\u001b[0m\u001b[0;32m     17\u001b[0m         \u001b[1;32mreturn\u001b[0m \u001b[0musers\u001b[0m\u001b[1;33m\u001b[0m\u001b[1;33m\u001b[0m\u001b[0m\n",
      "\u001b[1;31mNameError\u001b[0m: name 'usernames' is not defined"
     ]
    }
   ],
   "source": [
    "users = User.get_followers(\"user0\")"
   ]
  },
  {
   "cell_type": "code",
   "execution_count": 10,
   "metadata": {},
   "outputs": [
    {
     "ename": "SyntaxError",
     "evalue": "invalid syntax (<ipython-input-10-fed728fa5ade>, line 1)",
     "output_type": "error",
     "traceback": [
      "\u001b[1;36m  File \u001b[1;32m\"<ipython-input-10-fed728fa5ade>\"\u001b[1;36m, line \u001b[1;32m1\u001b[0m\n\u001b[1;33m    from pathlib import Pathroot = Path(‘jupyter’)\u001b[0m\n\u001b[1;37m                                 ^\u001b[0m\n\u001b[1;31mSyntaxError\u001b[0m\u001b[1;31m:\u001b[0m invalid syntax\n"
     ]
    }
   ],
   "source": [
    "from pathlib import Pathroot = Path(‘jupyter’)\n",
    " print(root)\n",
    " # post_sub_folderpath = root / ‘happy_user’# Make the path absolute\n",
    " print(path.resolve())\n",
    " # /home/weenkus/Workspace/Projects/DataWhatNow- Codes/how_your_python3_should_look_like/post_sub_folder/happy_user"
   ]
  },
  {
   "cell_type": "code",
   "execution_count": 12,
   "metadata": {},
   "outputs": [
    {
     "ename": "SyntaxError",
     "evalue": "invalid character in identifier (<ipython-input-12-4e2e53ee553a>, line 2)",
     "output_type": "error",
     "traceback": [
      "\u001b[1;36m  File \u001b[1;32m\"<ipython-input-12-4e2e53ee553a>\"\u001b[1;36m, line \u001b[1;32m2\u001b[0m\n\u001b[1;33m    return \"animal\" in sentencesentence_has_animal(“Donald had a farm without animals”)\u001b[0m\n\u001b[1;37m                                                         ^\u001b[0m\n\u001b[1;31mSyntaxError\u001b[0m\u001b[1;31m:\u001b[0m invalid character in identifier\n"
     ]
    }
   ],
   "source": [
    "def sentence_has_animal(sentence: str) -> bool:\n",
    " return \"animal\" in sentencesentence_has_animal(“Donald had a farm without animals”)\n",
    " # True"
   ]
  },
  {
   "cell_type": "code",
   "execution_count": 26,
   "metadata": {},
   "outputs": [
    {
     "name": "stdout",
     "output_type": "stream",
     "text": [
      "Monster.ZOMBIE\n",
      "Monster.WARRIOR\n",
      "Monster.BEAR\n"
     ]
    }
   ],
   "source": [
    "from enum import Enum, auto\n",
    "class Monster(Enum):\n",
    "    ZOMBIE = auto()\n",
    "    WARRIOR = auto()\n",
    "    BEAR = 3\n",
    "\n",
    "for monster in Monster:\n",
    "    print(monster)\n",
    " "
   ]
  },
  {
   "cell_type": "code",
   "execution_count": 47,
   "metadata": {},
   "outputs": [
    {
     "ename": "IndentationError",
     "evalue": "unindent does not match any outer indentation level (<tokenize>, line 7)",
     "output_type": "error",
     "traceback": [
      "\u001b[1;36m  File \u001b[1;32m\"<tokenize>\"\u001b[1;36m, line \u001b[1;32m7\u001b[0m\n\u001b[1;33m    if number==1:\u001b[0m\n\u001b[1;37m    ^\u001b[0m\n\u001b[1;31mIndentationError\u001b[0m\u001b[1;31m:\u001b[0m unindent does not match any outer indentation level\n"
     ]
    }
   ],
   "source": [
    "from functools import lru_cache\n",
    "@lru_cache(maxsize=512)\n",
    "def fib_memoization(number: int) -> int:\n",
    "    if number == 0: \n",
    "        return 0\n",
    "            \n",
    "     if number==1:\n",
    "        return 1 \n",
    "    return fib_memoization(number-1) + fib_memoization(number-2)\n",
    "    \n",
    "start = time.time()\n",
    "fib_memoization(40)\n",
    "print(f’Duration: {time.time() — start}s’)\n",
    "# Duration: 6.866455078125e-05s"
   ]
  },
  {
   "cell_type": "code",
   "execution_count": 43,
   "metadata": {},
   "outputs": [],
   "source": [
    "def fib_memoization(number: int) -> int:\n",
    "    print(number)"
   ]
  },
  {
   "cell_type": "code",
   "execution_count": 45,
   "metadata": {},
   "outputs": [
    {
     "name": "stdout",
     "output_type": "stream",
     "text": [
      "s\n"
     ]
    }
   ],
   "source": [
    "fib_memoization('s')"
   ]
  },
  {
   "cell_type": "code",
   "execution_count": null,
   "metadata": {},
   "outputs": [],
   "source": [
    "from functools import lru_cache\n",
    "import time\n",
    "@lru_cache(maxsize=None)\n",
    "def fib_memoization(number: int) -> int:\n",
    "    if number == 0: \n",
    "        return 0\n",
    "    if number==1:\n",
    "        return 1\n",
    "    return fib_memoization(number-1) + fib_memoization(number-2)"
   ]
  },
  {
   "cell_type": "code",
   "execution_count": null,
   "metadata": {},
   "outputs": [],
   "source": [
    "start = time.time()\n",
    "fib_memoization(500)\n",
    "print(\"Duration:\", time.time()-start)"
   ]
  },
  {
   "cell_type": "code",
   "execution_count": null,
   "metadata": {},
   "outputs": [],
   "source": [
    "import gc\n",
    "found_objects = gc.get_objects()\n",
    "print('%d objects before' % len(found_objects))"
   ]
  },
  {
   "cell_type": "code",
   "execution_count": null,
   "metadata": {},
   "outputs": [],
   "source": [
    "found_objects"
   ]
  },
  {
   "cell_type": "code",
   "execution_count": null,
   "metadata": {},
   "outputs": [],
   "source": [
    "ref = 'Sarah ' * 512000\n",
    "found_objects = gc.get_objects()\n",
    "print('%d objects after' % len(found_objects))"
   ]
  },
  {
   "cell_type": "code",
   "execution_count": null,
   "metadata": {},
   "outputs": [],
   "source": [
    "for obj in found_objects[:3]:\n",
    "    print(repr(obj)[:100])"
   ]
  },
  {
   "cell_type": "code",
   "execution_count": null,
   "metadata": {},
   "outputs": [],
   "source": [
    "found_objects"
   ]
  },
  {
   "cell_type": "code",
   "execution_count": null,
   "metadata": {},
   "outputs": [],
   "source": [
    "dir(found_objects)"
   ]
  },
  {
   "cell_type": "code",
   "execution_count": null,
   "metadata": {},
   "outputs": [],
   "source": []
  }
 ],
 "metadata": {
  "kernelspec": {
   "display_name": "Python 3",
   "language": "python",
   "name": "python3"
  },
  "language_info": {
   "codemirror_mode": {
    "name": "ipython",
    "version": 3
   },
   "file_extension": ".py",
   "mimetype": "text/x-python",
   "name": "python",
   "nbconvert_exporter": "python",
   "pygments_lexer": "ipython3",
   "version": "3.8.3"
  }
 },
 "nbformat": 4,
 "nbformat_minor": 4
}
